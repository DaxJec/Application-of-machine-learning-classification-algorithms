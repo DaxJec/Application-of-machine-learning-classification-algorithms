{
 "cells": [
  {
   "cell_type": "markdown",
   "id": "bc3271a7-0eea-477d-ab68-2138d4ebec90",
   "metadata": {},
   "source": [
    "# Application of the classification algorithms\n",
    "\n",
    "### Project title : Application scorecard for new customers\n",
    "\n",
    "#### The scorecard is intended to detect whether the new customer will default (failure to repay a loan installment for more than 90 days)"
   ]
  },
  {
   "cell_type": "markdown",
   "id": "edf8e4ae-ecfe-46e4-bba1-c05f433e8b9b",
   "metadata": {},
   "source": [
    "#### As per the nature of the problem at handle to be solved,this will require building a classfication model.\n",
    "\n",
    "#### The different classification models are going to be evaluated to identify the one the suits the project. These are;\n",
    "\n",
    "* Support Vector Machine (SVM)\n",
    "\n",
    "* Logistic Regression\n",
    "\n",
    "* KNearestNeighbors\n",
    "\n",
    "* Decision Tree\n",
    "\n",
    "* Random forest"
   ]
  },
  {
   "cell_type": "markdown",
   "id": "2b07189b-1594-4af7-89c3-6020a7e51629",
   "metadata": {},
   "source": [
    "#### importing the libraries to used throughout the development of the project"
   ]
  },
  {
   "cell_type": "code",
   "execution_count": 1,
   "id": "508afe4d-52ed-44d7-ab9e-e9fabf1b80bc",
   "metadata": {},
   "outputs": [],
   "source": [
    "import pandas as pd\n",
    "import numpy as np\n",
    "import matplotlib.pyplot as plt\n",
    "import seaborn as sns\n",
    "from sklearn.preprocessing import StandardScaler\n",
    "from sklearn.model_selection import train_test_split, RandomizedSearchCV,StratifiedKFold\n",
    "from sklearn.svm import SVC\n",
    "from sklearn.linear_model import LogisticRegression\n",
    "from sklearn.tree import DecisionTreeClassifier\n",
    "from sklearn.ensemble import RandomForestClassifier\n",
    "from sklearn.neighbors import KNeighborsClassifier\n",
    "from sklearn.metrics import confusion_matrix,classification_report,f1_score,accuracy_score\n",
    "import warnings\n",
    "import pickle"
   ]
  },
  {
   "cell_type": "markdown",
   "id": "1d8bf3a4-fd0c-4ca1-b274-f294078a06de",
   "metadata": {},
   "source": [
    "##### suppressing all the warning throughout the development"
   ]
  },
  {
   "cell_type": "code",
   "execution_count": 2,
   "id": "2ddacbc4-a2fb-450d-9c92-c3446d8d833b",
   "metadata": {},
   "outputs": [],
   "source": [
    "warnings.filterwarnings(\"ignore\")"
   ]
  },
  {
   "cell_type": "markdown",
   "id": "f45ba090-7b5a-48f7-b3f5-cf3a94a9b8a1",
   "metadata": {},
   "source": [
    "#### Building a fuction that will aid in the load and wrangling of the imported dataframe\n",
    "\n",
    "##### After importing the data from the provided excel sheet into a pandas dataframe, the following data validation is to be applied.\n",
    "\n",
    "* Checking the imported dataframe for any null values\n",
    "\n",
    "* The data types of all the features have to be crossed checked so as to confirm the alignment with the dictionary information\n",
    "\n",
    "* As the data in the excel sheet was already encoded, we have to confirm the number of unique values in the encoded columns if they match those of the dictionary.\n",
    "\n",
    "* We have to identify the features to used as the predictive variables and the target feature.\n",
    "\n",
    "* With \"RESPONSE\" as the target feature, the rest of the features will be predictive variables\n",
    "\n",
    "* The observation  (OBS#) feature will have to be dropped out from the predictive features \n"
   ]
  },
  {
   "cell_type": "code",
   "execution_count": 3,
   "id": "f8acb5fa-e5ff-4c83-b2fd-19d280a4e5c2",
   "metadata": {},
   "outputs": [
    {
     "data": {
      "text/html": [
       "<div>\n",
       "<style scoped>\n",
       "    .dataframe tbody tr th:only-of-type {\n",
       "        vertical-align: middle;\n",
       "    }\n",
       "\n",
       "    .dataframe tbody tr th {\n",
       "        vertical-align: top;\n",
       "    }\n",
       "\n",
       "    .dataframe thead th {\n",
       "        text-align: right;\n",
       "    }\n",
       "</style>\n",
       "<table border=\"1\" class=\"dataframe\">\n",
       "  <thead>\n",
       "    <tr style=\"text-align: right;\">\n",
       "      <th></th>\n",
       "      <th>CHK_ACCT</th>\n",
       "      <th>DURATION</th>\n",
       "      <th>HISTORY</th>\n",
       "      <th>NEW_CAR</th>\n",
       "      <th>USED_CAR</th>\n",
       "      <th>FURNITURE</th>\n",
       "      <th>RADIO/TV</th>\n",
       "      <th>EDUCATION</th>\n",
       "      <th>RETRAINING</th>\n",
       "      <th>AMOUNT</th>\n",
       "      <th>...</th>\n",
       "      <th>AGE</th>\n",
       "      <th>OTHER_INSTALL</th>\n",
       "      <th>RENT</th>\n",
       "      <th>OWN_RES</th>\n",
       "      <th>NUM_CREDITS</th>\n",
       "      <th>JOB</th>\n",
       "      <th>NUM_DEPENDENTS</th>\n",
       "      <th>TELEPHONE</th>\n",
       "      <th>FOREIGN</th>\n",
       "      <th>RESPONSE</th>\n",
       "    </tr>\n",
       "  </thead>\n",
       "  <tbody>\n",
       "    <tr>\n",
       "      <th>0</th>\n",
       "      <td>0</td>\n",
       "      <td>6</td>\n",
       "      <td>4</td>\n",
       "      <td>0</td>\n",
       "      <td>0</td>\n",
       "      <td>0</td>\n",
       "      <td>1</td>\n",
       "      <td>0</td>\n",
       "      <td>0</td>\n",
       "      <td>1169</td>\n",
       "      <td>...</td>\n",
       "      <td>67</td>\n",
       "      <td>0</td>\n",
       "      <td>0</td>\n",
       "      <td>1</td>\n",
       "      <td>2</td>\n",
       "      <td>2</td>\n",
       "      <td>1</td>\n",
       "      <td>1</td>\n",
       "      <td>0</td>\n",
       "      <td>1</td>\n",
       "    </tr>\n",
       "    <tr>\n",
       "      <th>1</th>\n",
       "      <td>1</td>\n",
       "      <td>48</td>\n",
       "      <td>2</td>\n",
       "      <td>0</td>\n",
       "      <td>0</td>\n",
       "      <td>0</td>\n",
       "      <td>1</td>\n",
       "      <td>0</td>\n",
       "      <td>0</td>\n",
       "      <td>5951</td>\n",
       "      <td>...</td>\n",
       "      <td>22</td>\n",
       "      <td>0</td>\n",
       "      <td>0</td>\n",
       "      <td>1</td>\n",
       "      <td>1</td>\n",
       "      <td>2</td>\n",
       "      <td>1</td>\n",
       "      <td>0</td>\n",
       "      <td>0</td>\n",
       "      <td>0</td>\n",
       "    </tr>\n",
       "    <tr>\n",
       "      <th>2</th>\n",
       "      <td>3</td>\n",
       "      <td>12</td>\n",
       "      <td>4</td>\n",
       "      <td>0</td>\n",
       "      <td>0</td>\n",
       "      <td>0</td>\n",
       "      <td>0</td>\n",
       "      <td>1</td>\n",
       "      <td>0</td>\n",
       "      <td>2096</td>\n",
       "      <td>...</td>\n",
       "      <td>49</td>\n",
       "      <td>0</td>\n",
       "      <td>0</td>\n",
       "      <td>1</td>\n",
       "      <td>1</td>\n",
       "      <td>1</td>\n",
       "      <td>2</td>\n",
       "      <td>0</td>\n",
       "      <td>0</td>\n",
       "      <td>1</td>\n",
       "    </tr>\n",
       "    <tr>\n",
       "      <th>3</th>\n",
       "      <td>0</td>\n",
       "      <td>42</td>\n",
       "      <td>2</td>\n",
       "      <td>0</td>\n",
       "      <td>0</td>\n",
       "      <td>1</td>\n",
       "      <td>0</td>\n",
       "      <td>0</td>\n",
       "      <td>0</td>\n",
       "      <td>7882</td>\n",
       "      <td>...</td>\n",
       "      <td>45</td>\n",
       "      <td>0</td>\n",
       "      <td>0</td>\n",
       "      <td>0</td>\n",
       "      <td>1</td>\n",
       "      <td>2</td>\n",
       "      <td>2</td>\n",
       "      <td>0</td>\n",
       "      <td>0</td>\n",
       "      <td>1</td>\n",
       "    </tr>\n",
       "    <tr>\n",
       "      <th>4</th>\n",
       "      <td>0</td>\n",
       "      <td>24</td>\n",
       "      <td>3</td>\n",
       "      <td>1</td>\n",
       "      <td>0</td>\n",
       "      <td>0</td>\n",
       "      <td>0</td>\n",
       "      <td>0</td>\n",
       "      <td>0</td>\n",
       "      <td>4870</td>\n",
       "      <td>...</td>\n",
       "      <td>53</td>\n",
       "      <td>0</td>\n",
       "      <td>0</td>\n",
       "      <td>0</td>\n",
       "      <td>2</td>\n",
       "      <td>2</td>\n",
       "      <td>2</td>\n",
       "      <td>0</td>\n",
       "      <td>0</td>\n",
       "      <td>0</td>\n",
       "    </tr>\n",
       "  </tbody>\n",
       "</table>\n",
       "<p>5 rows × 31 columns</p>\n",
       "</div>"
      ],
      "text/plain": [
       "   CHK_ACCT  DURATION  HISTORY  NEW_CAR  USED_CAR  FURNITURE  RADIO/TV  \\\n",
       "0         0         6        4        0         0          0         1   \n",
       "1         1        48        2        0         0          0         1   \n",
       "2         3        12        4        0         0          0         0   \n",
       "3         0        42        2        0         0          1         0   \n",
       "4         0        24        3        1         0          0         0   \n",
       "\n",
       "   EDUCATION  RETRAINING  AMOUNT  ...  AGE  OTHER_INSTALL  RENT  OWN_RES  \\\n",
       "0          0           0    1169  ...   67              0     0        1   \n",
       "1          0           0    5951  ...   22              0     0        1   \n",
       "2          1           0    2096  ...   49              0     0        1   \n",
       "3          0           0    7882  ...   45              0     0        0   \n",
       "4          0           0    4870  ...   53              0     0        0   \n",
       "\n",
       "   NUM_CREDITS  JOB  NUM_DEPENDENTS  TELEPHONE  FOREIGN  RESPONSE  \n",
       "0            2    2               1          1        0         1  \n",
       "1            1    2               1          0        0         0  \n",
       "2            1    1               2          0        0         1  \n",
       "3            1    2               2          0        0         1  \n",
       "4            2    2               2          0        0         0  \n",
       "\n",
       "[5 rows x 31 columns]"
      ]
     },
     "execution_count": 3,
     "metadata": {},
     "output_type": "execute_result"
    }
   ],
   "source": [
    "def load_check_file(filepath):\n",
    "    \n",
    "    df = pd.read_excel(filepath)\n",
    "    \n",
    "    df.drop(columns=\"OBS#\",inplace=True)\n",
    "    \n",
    "    return df\n",
    "\n",
    "data = load_check_file(\"classification_dataset.xlsx\")\n",
    "\n",
    "data.head()"
   ]
  },
  {
   "cell_type": "code",
   "execution_count": 4,
   "id": "6d8c9f51-87f3-4f8b-9950-cbf02d756142",
   "metadata": {},
   "outputs": [
    {
     "data": {
      "text/plain": [
       "Series([], dtype: int64)"
      ]
     },
     "execution_count": 4,
     "metadata": {},
     "output_type": "execute_result"
    }
   ],
   "source": [
    "# checking out for null values within the dataframe.\n",
    "# Running the code below, return an empty series indicating that there are no null values within the dataframe\n",
    "\n",
    "data.isnull().sum()[data.isnull().sum()> 0]"
   ]
  },
  {
   "cell_type": "code",
   "execution_count": 5,
   "id": "cf37c507-d09f-41e9-a5e7-cde06262e668",
   "metadata": {},
   "outputs": [
    {
     "data": {
      "text/plain": [
       "CHK_ACCT            4\n",
       "HISTORY             5\n",
       "NEW_CAR             2\n",
       "USED_CAR            2\n",
       "FURNITURE           2\n",
       "RADIO/TV            2\n",
       "EDUCATION           2\n",
       "RETRAINING          2\n",
       "SAV_ACCT            5\n",
       "EMPLOYMENT          5\n",
       "INSTALL_RATE        4\n",
       "MALE_DIV            2\n",
       "MALE_SINGLE         2\n",
       "MALE_MAR_or_WID     2\n",
       "CO-APPLICANT        2\n",
       "GUARANTOR           2\n",
       "PRESENT_RESIDENT    4\n",
       "REAL_ESTATE         2\n",
       "PROP_UNKN_NONE      2\n",
       "OTHER_INSTALL       2\n",
       "RENT                2\n",
       "OWN_RES             2\n",
       "NUM_CREDITS         4\n",
       "JOB                 4\n",
       "NUM_DEPENDENTS      2\n",
       "TELEPHONE           2\n",
       "FOREIGN             2\n",
       "RESPONSE            2\n",
       "dtype: int64"
      ]
     },
     "execution_count": 5,
     "metadata": {},
     "output_type": "execute_result"
    }
   ],
   "source": [
    "# checking out for number of unique values from the encoded columns if they match with the dictionary information.\n",
    "# the maximum number of unique values expected is five (5) and the minimum is two (2), everything is on well.\n",
    "data.nunique()[data.nunique()<6]"
   ]
  },
  {
   "cell_type": "code",
   "execution_count": 6,
   "id": "6721c78e-1ac6-4022-b0cc-ee81311ff8aa",
   "metadata": {},
   "outputs": [
    {
     "data": {
      "text/html": [
       "<div>\n",
       "<style scoped>\n",
       "    .dataframe tbody tr th:only-of-type {\n",
       "        vertical-align: middle;\n",
       "    }\n",
       "\n",
       "    .dataframe tbody tr th {\n",
       "        vertical-align: top;\n",
       "    }\n",
       "\n",
       "    .dataframe thead th {\n",
       "        text-align: right;\n",
       "    }\n",
       "</style>\n",
       "<table border=\"1\" class=\"dataframe\">\n",
       "  <thead>\n",
       "    <tr style=\"text-align: right;\">\n",
       "      <th></th>\n",
       "    </tr>\n",
       "  </thead>\n",
       "  <tbody>\n",
       "    <tr>\n",
       "      <th>0</th>\n",
       "    </tr>\n",
       "    <tr>\n",
       "      <th>1</th>\n",
       "    </tr>\n",
       "  </tbody>\n",
       "</table>\n",
       "</div>"
      ],
      "text/plain": [
       "Empty DataFrame\n",
       "Columns: []\n",
       "Index: [0, 1]"
      ]
     },
     "execution_count": 6,
     "metadata": {},
     "output_type": "execute_result"
    }
   ],
   "source": [
    "# checking datatypes of the features.\n",
    "# all the featues must be numeric, thus selecting object datatype feature, the result must be null\n",
    "# running the code below confirms that all the features are numeric\n",
    "\n",
    "data.select_dtypes(object).head(2)"
   ]
  },
  {
   "cell_type": "markdown",
   "id": "cb2094ee-3be5-42a7-8e2b-0afdb0771a47",
   "metadata": {},
   "source": [
    "#### Preparing the data for building the models\n",
    "\n",
    "* identifying and defining the target (y) and the predictive features (X); and knowing their shapes"
   ]
  },
  {
   "cell_type": "code",
   "execution_count": 7,
   "id": "2e447efa-36f5-4a3d-93fe-2bd50680309c",
   "metadata": {},
   "outputs": [
    {
     "data": {
      "text/plain": [
       "((1000, 30), (1000,))"
      ]
     },
     "execution_count": 7,
     "metadata": {},
     "output_type": "execute_result"
    }
   ],
   "source": [
    "target = \"RESPONSE\"\n",
    "\n",
    "X = data.drop(columns = target)\n",
    "\n",
    "y = data[target]\n",
    "\n",
    "X.shape,y.shape"
   ]
  },
  {
   "cell_type": "markdown",
   "id": "aa6c0a9e-1811-4da7-a2da-5a230b01fc7d",
   "metadata": {},
   "source": [
    "##### The predictive features have to scaled so as to have a mean of zero (0) and standard deviation of one, with help of standard scaler.\n",
    "\n",
    "##### This synchronizes the scales of the featues."
   ]
  },
  {
   "cell_type": "code",
   "execution_count": 8,
   "id": "ac0cf577-5b85-4cd3-ba7d-ccd4f208fd7a",
   "metadata": {},
   "outputs": [
    {
     "data": {
      "text/html": [
       "<div>\n",
       "<style scoped>\n",
       "    .dataframe tbody tr th:only-of-type {\n",
       "        vertical-align: middle;\n",
       "    }\n",
       "\n",
       "    .dataframe tbody tr th {\n",
       "        vertical-align: top;\n",
       "    }\n",
       "\n",
       "    .dataframe thead th {\n",
       "        text-align: right;\n",
       "    }\n",
       "</style>\n",
       "<table border=\"1\" class=\"dataframe\">\n",
       "  <thead>\n",
       "    <tr style=\"text-align: right;\">\n",
       "      <th></th>\n",
       "      <th>CHK_ACCT</th>\n",
       "      <th>DURATION</th>\n",
       "      <th>HISTORY</th>\n",
       "      <th>NEW_CAR</th>\n",
       "      <th>USED_CAR</th>\n",
       "      <th>FURNITURE</th>\n",
       "      <th>RADIO/TV</th>\n",
       "      <th>EDUCATION</th>\n",
       "      <th>RETRAINING</th>\n",
       "      <th>AMOUNT</th>\n",
       "      <th>...</th>\n",
       "      <th>PROP_UNKN_NONE</th>\n",
       "      <th>AGE</th>\n",
       "      <th>OTHER_INSTALL</th>\n",
       "      <th>RENT</th>\n",
       "      <th>OWN_RES</th>\n",
       "      <th>NUM_CREDITS</th>\n",
       "      <th>JOB</th>\n",
       "      <th>NUM_DEPENDENTS</th>\n",
       "      <th>TELEPHONE</th>\n",
       "      <th>FOREIGN</th>\n",
       "    </tr>\n",
       "  </thead>\n",
       "  <tbody>\n",
       "    <tr>\n",
       "      <th>count</th>\n",
       "      <td>1.000000e+03</td>\n",
       "      <td>1.000000e+03</td>\n",
       "      <td>1.000000e+03</td>\n",
       "      <td>1.000000e+03</td>\n",
       "      <td>1.000000e+03</td>\n",
       "      <td>1.000000e+03</td>\n",
       "      <td>1.000000e+03</td>\n",
       "      <td>1.000000e+03</td>\n",
       "      <td>1.000000e+03</td>\n",
       "      <td>1.000000e+03</td>\n",
       "      <td>...</td>\n",
       "      <td>1.000000e+03</td>\n",
       "      <td>1.000000e+03</td>\n",
       "      <td>1.000000e+03</td>\n",
       "      <td>1.000000e+03</td>\n",
       "      <td>1.000000e+03</td>\n",
       "      <td>1.000000e+03</td>\n",
       "      <td>1.000000e+03</td>\n",
       "      <td>1.000000e+03</td>\n",
       "      <td>1.000000e+03</td>\n",
       "      <td>1.000000e+03</td>\n",
       "    </tr>\n",
       "    <tr>\n",
       "      <th>mean</th>\n",
       "      <td>3.019807e-17</td>\n",
       "      <td>1.136868e-16</td>\n",
       "      <td>-3.730349e-17</td>\n",
       "      <td>7.460699e-17</td>\n",
       "      <td>3.019807e-17</td>\n",
       "      <td>-4.973799e-17</td>\n",
       "      <td>-4.263256e-17</td>\n",
       "      <td>-1.127987e-16</td>\n",
       "      <td>-5.329071e-18</td>\n",
       "      <td>6.661338e-17</td>\n",
       "      <td>...</td>\n",
       "      <td>-3.330669e-17</td>\n",
       "      <td>5.329071e-17</td>\n",
       "      <td>4.618528e-17</td>\n",
       "      <td>-6.394885e-17</td>\n",
       "      <td>5.329071e-17</td>\n",
       "      <td>-9.414691e-17</td>\n",
       "      <td>5.684342e-17</td>\n",
       "      <td>-1.065814e-17</td>\n",
       "      <td>-7.993606e-17</td>\n",
       "      <td>6.750156e-17</td>\n",
       "    </tr>\n",
       "    <tr>\n",
       "      <th>std</th>\n",
       "      <td>1.000500e+00</td>\n",
       "      <td>1.000500e+00</td>\n",
       "      <td>1.000500e+00</td>\n",
       "      <td>1.000500e+00</td>\n",
       "      <td>1.000500e+00</td>\n",
       "      <td>1.000500e+00</td>\n",
       "      <td>1.000500e+00</td>\n",
       "      <td>1.000500e+00</td>\n",
       "      <td>1.000500e+00</td>\n",
       "      <td>1.000500e+00</td>\n",
       "      <td>...</td>\n",
       "      <td>1.000500e+00</td>\n",
       "      <td>1.000500e+00</td>\n",
       "      <td>1.000500e+00</td>\n",
       "      <td>1.000500e+00</td>\n",
       "      <td>1.000500e+00</td>\n",
       "      <td>1.000500e+00</td>\n",
       "      <td>1.000500e+00</td>\n",
       "      <td>1.000500e+00</td>\n",
       "      <td>1.000500e+00</td>\n",
       "      <td>1.000500e+00</td>\n",
       "    </tr>\n",
       "  </tbody>\n",
       "</table>\n",
       "<p>3 rows × 30 columns</p>\n",
       "</div>"
      ],
      "text/plain": [
       "           CHK_ACCT      DURATION       HISTORY       NEW_CAR      USED_CAR  \\\n",
       "count  1.000000e+03  1.000000e+03  1.000000e+03  1.000000e+03  1.000000e+03   \n",
       "mean   3.019807e-17  1.136868e-16 -3.730349e-17  7.460699e-17  3.019807e-17   \n",
       "std    1.000500e+00  1.000500e+00  1.000500e+00  1.000500e+00  1.000500e+00   \n",
       "\n",
       "          FURNITURE      RADIO/TV     EDUCATION    RETRAINING        AMOUNT  \\\n",
       "count  1.000000e+03  1.000000e+03  1.000000e+03  1.000000e+03  1.000000e+03   \n",
       "mean  -4.973799e-17 -4.263256e-17 -1.127987e-16 -5.329071e-18  6.661338e-17   \n",
       "std    1.000500e+00  1.000500e+00  1.000500e+00  1.000500e+00  1.000500e+00   \n",
       "\n",
       "       ...  PROP_UNKN_NONE           AGE  OTHER_INSTALL          RENT  \\\n",
       "count  ...    1.000000e+03  1.000000e+03   1.000000e+03  1.000000e+03   \n",
       "mean   ...   -3.330669e-17  5.329071e-17   4.618528e-17 -6.394885e-17   \n",
       "std    ...    1.000500e+00  1.000500e+00   1.000500e+00  1.000500e+00   \n",
       "\n",
       "            OWN_RES   NUM_CREDITS           JOB  NUM_DEPENDENTS     TELEPHONE  \\\n",
       "count  1.000000e+03  1.000000e+03  1.000000e+03    1.000000e+03  1.000000e+03   \n",
       "mean   5.329071e-17 -9.414691e-17  5.684342e-17   -1.065814e-17 -7.993606e-17   \n",
       "std    1.000500e+00  1.000500e+00  1.000500e+00    1.000500e+00  1.000500e+00   \n",
       "\n",
       "            FOREIGN  \n",
       "count  1.000000e+03  \n",
       "mean   6.750156e-17  \n",
       "std    1.000500e+00  \n",
       "\n",
       "[3 rows x 30 columns]"
      ]
     },
     "execution_count": 8,
     "metadata": {},
     "output_type": "execute_result"
    }
   ],
   "source": [
    "scaler = StandardScaler()\n",
    "\n",
    "X_scaled = pd.DataFrame(scaler.fit_transform(X),columns=X.columns)\n",
    "\n",
    "X_scaled.describe().iloc[:3,:]"
   ]
  },
  {
   "cell_type": "markdown",
   "id": "a5a16612-a544-4c88-87c3-0f0b2ea6f350",
   "metadata": {},
   "source": [
    "##### Split of the X and y features into the training and test data with a test size of 20%"
   ]
  },
  {
   "cell_type": "code",
   "execution_count": 9,
   "id": "c12bbb99-5b78-4d3d-bce9-a1ee71a0a346",
   "metadata": {},
   "outputs": [
    {
     "data": {
      "text/plain": [
       "((800, 30), (200, 30), (800,), (200,))"
      ]
     },
     "execution_count": 9,
     "metadata": {},
     "output_type": "execute_result"
    }
   ],
   "source": [
    "X_train,X_test,y_train,y_test = train_test_split(X_scaled,y,test_size=0.2,random_state=42)\n",
    "\n",
    "X_train.shape,X_test.shape,y_train.shape,y_test.shape"
   ]
  },
  {
   "cell_type": "markdown",
   "id": "cafd0fbd-91ae-4720-9afb-4d7a4dbcd4dd",
   "metadata": {},
   "source": [
    "##### checking if the training data balances (y_train)"
   ]
  },
  {
   "cell_type": "code",
   "execution_count": 10,
   "id": "8d399360-97d4-448f-944b-71429dda4713",
   "metadata": {},
   "outputs": [
    {
     "data": {
      "text/plain": [
       "1    559\n",
       "0    241\n",
       "Name: RESPONSE, dtype: int64"
      ]
     },
     "execution_count": 10,
     "metadata": {},
     "output_type": "execute_result"
    }
   ],
   "source": [
    "y_train.value_counts()"
   ]
  },
  {
   "cell_type": "code",
   "execution_count": 11,
   "id": "fff4cb6c-169c-4d80-a61c-34b71e3ff927",
   "metadata": {},
   "outputs": [
    {
     "data": {
      "image/png": "[encoded data removed]",
      "text/plain": [
       "<Figure size 640x480 with 1 Axes>"
      ]
     },
     "metadata": {},
     "output_type": "display_data"
    }
   ],
   "source": [
    "y_train.value_counts().plot(kind=\"bar\")\n",
    "\n",
    "plt.xlabel(\"Response classes\")\n",
    "\n",
    "plt.ylabel(\"Count of observation\")\n",
    "\n",
    "plt.title(\"Agraph of class responses against their observation counts\");"
   ]
  },
  {
   "cell_type": "markdown",
   "id": "62d78c1c-bdfb-4ce7-89c2-d6bb57ea0bed",
   "metadata": {},
   "source": [
    "### Building the naive (with default settings) models \n",
    "\n",
    "* The models are fitted with the training data\n",
    "\n",
    "* The performance of the models to be evaluated on both the training and test data"
   ]
  },
  {
   "cell_type": "code",
   "execution_count": 12,
   "id": "ae002db0-b3c9-4b0d-a241-1f46cfa58822",
   "metadata": {},
   "outputs": [],
   "source": [
    "Naive_LR = LogisticRegression()\n",
    "\n",
    "Naive_RF = RandomForestClassifier()\n",
    "\n",
    "Naive_SVC = SVC()\n",
    "\n",
    "Naive_KNN = KNeighborsClassifier()\n",
    "\n",
    "Naive_DT = DecisionTreeClassifier()\n",
    "\n",
    "Naive_models = [Naive_LR,Naive_RF,Naive_SVC,Naive_KNN,Naive_DT]\n",
    "\n",
    "models_1 = [\"Naive_LR\",\"Naive_RF\",\"Naive_SVC\",\"Naive_KNN\",\"Naive_DT\"]\n",
    "\n",
    "f1_scores_train = []\n",
    "\n",
    "f1_scores_test = []\n",
    "\n",
    "acc_train = []\n",
    "\n",
    "acc_test = []\n",
    "\n",
    "for model in Naive_models:\n",
    "    \n",
    "    model.fit(X_train,y_train)\n",
    "    \n",
    "    y_pred = model.predict(X_train.to_numpy())\n",
    "    \n",
    "    f1_scores_train.append(round(f1_score(y_train,y_pred),5))\n",
    "    \n",
    "    acc_train.append(round(accuracy_score(y_train,y_pred),5))\n",
    "    \n",
    "    y_pred_test = model.predict(X_test.to_numpy())\n",
    "    \n",
    "    f1_scores_test.append(round(f1_score(y_test,y_pred_test),5))\n",
    "    \n",
    "    acc_test.append(round(accuracy_score(y_test,y_pred_test),5))\n",
    "    "
   ]
  },
  {
   "cell_type": "code",
   "execution_count": 13,
   "id": "d25233a9-443b-4890-bcf9-446284876039",
   "metadata": {},
   "outputs": [
    {
     "data": {
      "text/html": [
       "<div>\n",
       "<style scoped>\n",
       "    .dataframe tbody tr th:only-of-type {\n",
       "        vertical-align: middle;\n",
       "    }\n",
       "\n",
       "    .dataframe tbody tr th {\n",
       "        vertical-align: top;\n",
       "    }\n",
       "\n",
       "    .dataframe thead th {\n",
       "        text-align: right;\n",
       "    }\n",
       "</style>\n",
       "<table border=\"1\" class=\"dataframe\">\n",
       "  <thead>\n",
       "    <tr style=\"text-align: right;\">\n",
       "      <th></th>\n",
       "      <th>models</th>\n",
       "      <th>f1_scores_train</th>\n",
       "      <th>accuracy_train</th>\n",
       "      <th>f1_scores_test</th>\n",
       "      <th>accuracy_test</th>\n",
       "      <th>diff_acc_naive</th>\n",
       "    </tr>\n",
       "  </thead>\n",
       "  <tbody>\n",
       "    <tr>\n",
       "      <th>0</th>\n",
       "      <td>Naive_LR</td>\n",
       "      <td>0.84910</td>\n",
       "      <td>0.77875</td>\n",
       "      <td>0.86486</td>\n",
       "      <td>0.800</td>\n",
       "      <td>-0.02125</td>\n",
       "    </tr>\n",
       "    <tr>\n",
       "      <th>1</th>\n",
       "      <td>Naive_RF</td>\n",
       "      <td>1.00000</td>\n",
       "      <td>1.00000</td>\n",
       "      <td>0.83721</td>\n",
       "      <td>0.755</td>\n",
       "      <td>0.24500</td>\n",
       "    </tr>\n",
       "    <tr>\n",
       "      <th>2</th>\n",
       "      <td>Naive_SVC</td>\n",
       "      <td>0.91751</td>\n",
       "      <td>0.87750</td>\n",
       "      <td>0.86093</td>\n",
       "      <td>0.790</td>\n",
       "      <td>0.08750</td>\n",
       "    </tr>\n",
       "    <tr>\n",
       "      <th>3</th>\n",
       "      <td>Naive_KNN</td>\n",
       "      <td>0.86482</td>\n",
       "      <td>0.79875</td>\n",
       "      <td>0.80822</td>\n",
       "      <td>0.720</td>\n",
       "      <td>0.07875</td>\n",
       "    </tr>\n",
       "    <tr>\n",
       "      <th>4</th>\n",
       "      <td>Naive_DT</td>\n",
       "      <td>1.00000</td>\n",
       "      <td>1.00000</td>\n",
       "      <td>0.81004</td>\n",
       "      <td>0.735</td>\n",
       "      <td>0.26500</td>\n",
       "    </tr>\n",
       "  </tbody>\n",
       "</table>\n",
       "</div>"
      ],
      "text/plain": [
       "      models  f1_scores_train  accuracy_train  f1_scores_test  accuracy_test  \\\n",
       "0   Naive_LR          0.84910         0.77875         0.86486          0.800   \n",
       "1   Naive_RF          1.00000         1.00000         0.83721          0.755   \n",
       "2  Naive_SVC          0.91751         0.87750         0.86093          0.790   \n",
       "3  Naive_KNN          0.86482         0.79875         0.80822          0.720   \n",
       "4   Naive_DT          1.00000         1.00000         0.81004          0.735   \n",
       "\n",
       "   diff_acc_naive  \n",
       "0        -0.02125  \n",
       "1         0.24500  \n",
       "2         0.08750  \n",
       "3         0.07875  \n",
       "4         0.26500  "
      ]
     },
     "execution_count": 13,
     "metadata": {},
     "output_type": "execute_result"
    }
   ],
   "source": [
    "df_naive_models = pd.DataFrame({\"models\":models_1,\"f1_scores_train\":f1_scores_train,\n",
    "                                \"accuracy_train\":acc_train,\"f1_scores_test\":f1_scores_test,\n",
    "                                 \"accuracy_test\":acc_test})\n",
    "\n",
    "df_naive_models[\"diff_acc_naive\"] = df_naive_models[\"accuracy_train\"]-df_naive_models[\"accuracy_test\"]\n",
    "\n",
    "df_naive_models"
   ]
  },
  {
   "cell_type": "markdown",
   "id": "740242d1",
   "metadata": {},
   "source": [
    "#####  From the above table reflecting the model training and test accuracy scores, the difference of the accuracy scores was obtained as\n",
    "\n",
    "#####  (accuracy train - accuracy test). Its expected for the difference to be negative as this will imply an improved performace on unsee\n",
    "\n",
    "#####  data. For those were the difference is positive, this signifies an overfitting problem which has to be reduced as much as \n",
    "\n",
    "#####  possible. This is why in the next section we shall apply hyperparameter tuning for the models. "
   ]
  },
  {
   "cell_type": "markdown",
   "id": "f76d1d34-e5ac-459d-8bc4-187eea7b2518",
   "metadata": {},
   "source": [
    "### Applying hyperparameter tuning to obtained the best estimators of the different models.\n",
    "\n",
    "* the above fitted naive models were performing well however, we need to be prepared for overfitting problem hence hyperparameter tuning\n",
    "\n",
    "* with the help of the RandomizedSearchCV, we shall tune the various model hyperparameters\n",
    "\n",
    "* since the data was imbalanced, stratifiedKFold will be used when creating the folds.\n",
    "\n",
    "* best scores and best parameters for the different tuned models will be captured in a dataframe for evaluation."
   ]
  },
  {
   "cell_type": "code",
   "execution_count": 14,
   "id": "b350f45b-698b-4235-8866-a725012f4df9",
   "metadata": {},
   "outputs": [
    {
     "name": "stdout",
     "output_type": "stream",
     "text": [
      "Fitting 10 folds for each of 10 candidates, totalling 100 fits\n",
      "Fitting 10 folds for each of 10 candidates, totalling 100 fits\n",
      "Fitting 10 folds for each of 10 candidates, totalling 100 fits\n",
      "Fitting 10 folds for each of 10 candidates, totalling 100 fits\n",
      "Fitting 10 folds for each of 10 candidates, totalling 100 fits\n"
     ]
    }
   ],
   "source": [
    "LR = LogisticRegression()\n",
    "\n",
    "DT = DecisionTreeClassifier()\n",
    "\n",
    "KNN = KNeighborsClassifier()\n",
    "\n",
    "m_SVC = SVC()\n",
    "\n",
    "RF = RandomForestClassifier()\n",
    "\n",
    "param_lr = {\"penalty\":[\"l1\",\"l2\",\"elasticnet\"], \"solver\": [\"lbfgs\",\"liblinear\",\"newton-cg\",\"sag\",\"saga\"], \"max_iter\":[100,1000,2500,5000,5500,15000]}\n",
    "\n",
    "param_dt = {\"criterion\":[\"gini\",\"entropy\",\"log_loss\"],\"max_depth\":range(1,30),\"max_features\":[\"auto\",\"sqrt\",\"log2\"]}\n",
    "\n",
    "param_knn = { \"n_neighbors\" : range(2,12)}\n",
    "\n",
    "param_svc = {\"kernel\":[\"rbf\",\"sigmoid\",\"poly\"], \"C\": [0.1,1.0,10.0,100.0,1000.0],\"gamma\":[0.00001,0.0001,0.001,0.01,0.1,1.0]}\n",
    "\n",
    "param_rf = {\"n_estimators\": range(10,200,10),\"max_depth\": range(2,19),\"criterion\": [\"gini\", \"entropy\"],\"max_features\": [\"sqrt\",\"log2\"]}\n",
    "\n",
    "params = [param_lr,param_dt,param_knn,param_svc,param_rf]\n",
    "\n",
    "models_cv = [LR,DT,KNN,m_SVC,RF]\n",
    "\n",
    "models_gsc = [\"LR\",\"DT\",\"KNN\",\"SVC\",\"RF\"]\n",
    "\n",
    "sk_folds = StratifiedKFold(n_splits=10)\n",
    "\n",
    "best_scores = []\n",
    "\n",
    "best_parameters = []\n",
    "\n",
    "for param,model in zip(params,models_cv):\n",
    "    \n",
    "    grid_cv = RandomizedSearchCV(model,param_distributions=param,cv=sk_folds,verbose=True,n_jobs=-1)\n",
    "    \n",
    "    grid_cv.fit(X_train,y_train)\n",
    "    \n",
    "    best_scores.append(round(grid_cv.best_score_,5)) \n",
    "    \n",
    "    best_parameters.append(grid_cv.best_params_)\n",
    "    "
   ]
  },
  {
   "cell_type": "code",
   "execution_count": 15,
   "id": "1cc04655-cf49-4eff-87b2-16203706051b",
   "metadata": {},
   "outputs": [
    {
     "data": {
      "text/html": [
       "<div>\n",
       "<style scoped>\n",
       "    .dataframe tbody tr th:only-of-type {\n",
       "        vertical-align: middle;\n",
       "    }\n",
       "\n",
       "    .dataframe tbody tr th {\n",
       "        vertical-align: top;\n",
       "    }\n",
       "\n",
       "    .dataframe thead th {\n",
       "        text-align: right;\n",
       "    }\n",
       "</style>\n",
       "<table border=\"1\" class=\"dataframe\">\n",
       "  <thead>\n",
       "    <tr style=\"text-align: right;\">\n",
       "      <th></th>\n",
       "      <th>models</th>\n",
       "      <th>best scores</th>\n",
       "      <th>best params</th>\n",
       "    </tr>\n",
       "  </thead>\n",
       "  <tbody>\n",
       "    <tr>\n",
       "      <th>0</th>\n",
       "      <td>LR</td>\n",
       "      <td>0.75375</td>\n",
       "      <td>{'solver': 'lbfgs', 'penalty': 'l2', 'max_iter': 1000}</td>\n",
       "    </tr>\n",
       "    <tr>\n",
       "      <th>1</th>\n",
       "      <td>DT</td>\n",
       "      <td>0.69500</td>\n",
       "      <td>{'max_features': 'sqrt', 'max_depth': 5, 'criterion': 'entropy'}</td>\n",
       "    </tr>\n",
       "    <tr>\n",
       "      <th>2</th>\n",
       "      <td>KNN</td>\n",
       "      <td>NaN</td>\n",
       "      <td>{'n_neighbors': 2}</td>\n",
       "    </tr>\n",
       "    <tr>\n",
       "      <th>3</th>\n",
       "      <td>SVC</td>\n",
       "      <td>0.70500</td>\n",
       "      <td>{'kernel': 'poly', 'gamma': 0.1, 'C': 1.0}</td>\n",
       "    </tr>\n",
       "    <tr>\n",
       "      <th>4</th>\n",
       "      <td>RF</td>\n",
       "      <td>0.76625</td>\n",
       "      <td>{'n_estimators': 170, 'max_features': 'sqrt', 'max_depth': 18, 'criterion': 'gini'}</td>\n",
       "    </tr>\n",
       "  </tbody>\n",
       "</table>\n",
       "</div>"
      ],
      "text/plain": [
       "  models  best scores  \\\n",
       "0     LR      0.75375   \n",
       "1     DT      0.69500   \n",
       "2    KNN          NaN   \n",
       "3    SVC      0.70500   \n",
       "4     RF      0.76625   \n",
       "\n",
       "                                                                           best params  \n",
       "0                               {'solver': 'lbfgs', 'penalty': 'l2', 'max_iter': 1000}  \n",
       "1                     {'max_features': 'sqrt', 'max_depth': 5, 'criterion': 'entropy'}  \n",
       "2                                                                   {'n_neighbors': 2}  \n",
       "3                                           {'kernel': 'poly', 'gamma': 0.1, 'C': 1.0}  \n",
       "4  {'n_estimators': 170, 'max_features': 'sqrt', 'max_depth': 18, 'criterion': 'gini'}  "
      ]
     },
     "execution_count": 15,
     "metadata": {},
     "output_type": "execute_result"
    }
   ],
   "source": [
    "pd.set_option(\"max_colwidth\",None)\n",
    "              \n",
    "df_hyper = pd.DataFrame({\"models\":models_gsc,\"best scores\":best_scores,\"best params\":best_parameters})\n",
    "\n",
    "df_hyper"
   ]
  },
  {
   "cell_type": "markdown",
   "id": "08c56250-c2cf-474c-b2eb-4b6e8bcb1c9a",
   "metadata": {},
   "source": [
    "###  "
   ]
  },
  {
   "cell_type": "markdown",
   "id": "1915099d",
   "metadata": {},
   "source": [
    "### Building the tunned  (with set hyperparameters) models \n",
    "\n",
    "* The models are fitted with the training data\n",
    "\n",
    "* The performance of the models to be evaluated on both the training and test data\n",
    "\n",
    "###### (below are the parameters that were obtained at the time of generating the report)"
   ]
  },
  {
   "cell_type": "code",
   "execution_count": 16,
   "id": "0cccc18a",
   "metadata": {},
   "outputs": [],
   "source": [
    "model_lr = LogisticRegression(random_state=42,solver=\"lbfgs\",penalty=\"l2\",max_iter=1000)\n",
    "\n",
    "model_rf = RandomForestClassifier(random_state=42, n_estimators=150,max_features=\"log2\",max_depth=18,criterion=\"gini\")\n",
    "\n",
    "model_svc = SVC(random_state=42,kernel=\"sigmoid\",gamma=0.0001,C=1000.0)\n",
    "\n",
    "model_knn = KNeighborsClassifier(n_neighbors=10)\n",
    "\n",
    "model_dt = DecisionTreeClassifier(random_state=42,max_features=\"sqrt\",max_depth=11,criterion=\"gini\")\n",
    "\n",
    "models_tuned = [model_rf,model_lr,model_svc,model_knn,model_dt]\n",
    "\n",
    "models_t = [\"model_lr\",\"model_rf\",\"model_svc\",\"model_knn\",\"model_dt\"]\n",
    "\n",
    "f1_scores_train_t = []\n",
    "\n",
    "f1_scores_test_t = []\n",
    "\n",
    "acc_train_t = []\n",
    "\n",
    "acc_test_t = []\n",
    "\n",
    "for model in models_tuned:\n",
    "    \n",
    "    model.fit(X_train,y_train)\n",
    "    \n",
    "    y_pred = model.predict(X_train.to_numpy())\n",
    "    \n",
    "    f1_scores_train_t.append(round(f1_score(y_train,y_pred),5))\n",
    "    \n",
    "    acc_train_t.append(round(accuracy_score(y_train,y_pred),5))\n",
    "    \n",
    "    y_pred_test_t = model.predict(X_test.to_numpy())\n",
    "    \n",
    "    f1_scores_test_t.append(round(f1_score(y_test,y_pred_test),5))\n",
    "    \n",
    "    acc_test_t.append(round(accuracy_score(y_test,y_pred_test),5))"
   ]
  },
  {
   "cell_type": "code",
   "execution_count": 17,
   "id": "e94e3b58",
   "metadata": {},
   "outputs": [
    {
     "data": {
      "text/html": [
       "<div>\n",
       "<style scoped>\n",
       "    .dataframe tbody tr th:only-of-type {\n",
       "        vertical-align: middle;\n",
       "    }\n",
       "\n",
       "    .dataframe tbody tr th {\n",
       "        vertical-align: top;\n",
       "    }\n",
       "\n",
       "    .dataframe thead th {\n",
       "        text-align: right;\n",
       "    }\n",
       "</style>\n",
       "<table border=\"1\" class=\"dataframe\">\n",
       "  <thead>\n",
       "    <tr style=\"text-align: right;\">\n",
       "      <th></th>\n",
       "      <th>models</th>\n",
       "      <th>f1_scores_train_t</th>\n",
       "      <th>accuracy_train_t</th>\n",
       "      <th>f1_scores_test_t</th>\n",
       "      <th>accuracy_test_t</th>\n",
       "      <th>diff_acc_tuned</th>\n",
       "    </tr>\n",
       "  </thead>\n",
       "  <tbody>\n",
       "    <tr>\n",
       "      <th>0</th>\n",
       "      <td>model_lr</td>\n",
       "      <td>1.00000</td>\n",
       "      <td>1.00000</td>\n",
       "      <td>0.81004</td>\n",
       "      <td>0.735</td>\n",
       "      <td>0.26500</td>\n",
       "    </tr>\n",
       "    <tr>\n",
       "      <th>1</th>\n",
       "      <td>model_rf</td>\n",
       "      <td>0.84910</td>\n",
       "      <td>0.77875</td>\n",
       "      <td>0.81004</td>\n",
       "      <td>0.735</td>\n",
       "      <td>0.04375</td>\n",
       "    </tr>\n",
       "    <tr>\n",
       "      <th>2</th>\n",
       "      <td>model_svc</td>\n",
       "      <td>0.84936</td>\n",
       "      <td>0.77875</td>\n",
       "      <td>0.81004</td>\n",
       "      <td>0.735</td>\n",
       "      <td>0.04375</td>\n",
       "    </tr>\n",
       "    <tr>\n",
       "      <th>3</th>\n",
       "      <td>model_knn</td>\n",
       "      <td>0.85254</td>\n",
       "      <td>0.78250</td>\n",
       "      <td>0.81004</td>\n",
       "      <td>0.735</td>\n",
       "      <td>0.04750</td>\n",
       "    </tr>\n",
       "    <tr>\n",
       "      <th>4</th>\n",
       "      <td>model_dt</td>\n",
       "      <td>0.93666</td>\n",
       "      <td>0.91125</td>\n",
       "      <td>0.81004</td>\n",
       "      <td>0.735</td>\n",
       "      <td>0.17625</td>\n",
       "    </tr>\n",
       "  </tbody>\n",
       "</table>\n",
       "</div>"
      ],
      "text/plain": [
       "      models  f1_scores_train_t  accuracy_train_t  f1_scores_test_t  \\\n",
       "0   model_lr            1.00000           1.00000           0.81004   \n",
       "1   model_rf            0.84910           0.77875           0.81004   \n",
       "2  model_svc            0.84936           0.77875           0.81004   \n",
       "3  model_knn            0.85254           0.78250           0.81004   \n",
       "4   model_dt            0.93666           0.91125           0.81004   \n",
       "\n",
       "   accuracy_test_t  diff_acc_tuned  \n",
       "0            0.735         0.26500  \n",
       "1            0.735         0.04375  \n",
       "2            0.735         0.04375  \n",
       "3            0.735         0.04750  \n",
       "4            0.735         0.17625  "
      ]
     },
     "execution_count": 17,
     "metadata": {},
     "output_type": "execute_result"
    }
   ],
   "source": [
    "df_models_tuned = pd.DataFrame({\"models\":models_t,\"f1_scores_train_t\":f1_scores_train_t,\n",
    "                                \"accuracy_train_t\":acc_train_t,\"f1_scores_test_t\":f1_scores_test_t,\n",
    "                                 \"accuracy_test_t\":acc_test_t})\n",
    "\n",
    "df_models_tuned[\"diff_acc_tuned\"] = df_models_tuned[\"accuracy_train_t\"]-df_models_tuned[\"accuracy_test_t\"]\n",
    "\n",
    "df_models_tuned"
   ]
  },
  {
   "cell_type": "markdown",
   "id": "b8522cdb",
   "metadata": {},
   "source": [
    "#### with reference to the above table, its only the Logistic Regression model that still has the issue of overfitting, the rest can generalize"
   ]
  },
  {
   "cell_type": "code",
   "execution_count": null,
   "id": "533a83ab",
   "metadata": {},
   "outputs": [],
   "source": []
  },
  {
   "cell_type": "code",
   "execution_count": 19,
   "id": "5b88a01d",
   "metadata": {},
   "outputs": [
    {
     "data": {
      "text/html": [
       "<div>\n",
       "<style scoped>\n",
       "    .dataframe tbody tr th:only-of-type {\n",
       "        vertical-align: middle;\n",
       "    }\n",
       "\n",
       "    .dataframe tbody tr th {\n",
       "        vertical-align: top;\n",
       "    }\n",
       "\n",
       "    .dataframe thead th {\n",
       "        text-align: right;\n",
       "    }\n",
       "</style>\n",
       "<table border=\"1\" class=\"dataframe\">\n",
       "  <thead>\n",
       "    <tr style=\"text-align: right;\">\n",
       "      <th></th>\n",
       "      <th>models</th>\n",
       "      <th>diff_acc_tuned</th>\n",
       "      <th>diff_acc_naive</th>\n",
       "    </tr>\n",
       "  </thead>\n",
       "  <tbody>\n",
       "    <tr>\n",
       "      <th>0</th>\n",
       "      <td>model_lr</td>\n",
       "      <td>0.26500</td>\n",
       "      <td>-0.02125</td>\n",
       "    </tr>\n",
       "    <tr>\n",
       "      <th>1</th>\n",
       "      <td>model_rf</td>\n",
       "      <td>0.04375</td>\n",
       "      <td>0.24500</td>\n",
       "    </tr>\n",
       "    <tr>\n",
       "      <th>2</th>\n",
       "      <td>model_svc</td>\n",
       "      <td>0.04375</td>\n",
       "      <td>0.08750</td>\n",
       "    </tr>\n",
       "    <tr>\n",
       "      <th>3</th>\n",
       "      <td>model_knn</td>\n",
       "      <td>0.04750</td>\n",
       "      <td>0.07875</td>\n",
       "    </tr>\n",
       "    <tr>\n",
       "      <th>4</th>\n",
       "      <td>model_dt</td>\n",
       "      <td>0.17625</td>\n",
       "      <td>0.26500</td>\n",
       "    </tr>\n",
       "  </tbody>\n",
       "</table>\n",
       "</div>"
      ],
      "text/plain": [
       "      models  diff_acc_tuned  diff_acc_naive\n",
       "0   model_lr         0.26500        -0.02125\n",
       "1   model_rf         0.04375         0.24500\n",
       "2  model_svc         0.04375         0.08750\n",
       "3  model_knn         0.04750         0.07875\n",
       "4   model_dt         0.17625         0.26500"
      ]
     },
     "execution_count": 19,
     "metadata": {},
     "output_type": "execute_result"
    }
   ],
   "source": [
    "df_tuned_naive = pd.concat([df_models_tuned.iloc[:,[0,5]],df_naive_models.iloc[:,5]],axis=1)\n",
    "\n",
    "df_tuned_naive"
   ]
  },
  {
   "cell_type": "code",
   "execution_count": 20,
   "id": "9e6d23c6",
   "metadata": {},
   "outputs": [
    {
     "data": {
      "image/png": "[encoded data removed]",
      "text/plain": [
       "<Figure size 1000x700 with 1 Axes>"
      ]
     },
     "metadata": {},
     "output_type": "display_data"
    }
   ],
   "source": [
    "fig, ax = plt.subplots(figsize=(10,7))\n",
    "\n",
    "df_tuned_naive.plot(x=\"models\",y=[\"diff_acc_naive\",\"diff_acc_tuned\"],kind=\"barh\",ax=ax)\n",
    "\n",
    "plt.xlabel(\"diff_accuracy\")\n",
    "\n",
    "plt.title(\"Comparison of the difference in accuracy scores for naive and tunned modles\")\n",
    "\n",
    "plt.grid();"
   ]
  },
  {
   "cell_type": "code",
   "execution_count": null,
   "id": "4be57cf5",
   "metadata": {},
   "outputs": [],
   "source": []
  },
  {
   "cell_type": "markdown",
   "id": "b44e6301",
   "metadata": {},
   "source": [
    "### The final model to used for the solving the classification is a Decision Tree.\n",
    "\n",
    "* the hyperparameters to used are list above.\n",
    "\n",
    "* at the time of runing this code the parameters were max_features=\"sqrt\",max_depth=11,criterion=\"gini\""
   ]
  },
  {
   "cell_type": "code",
   "execution_count": 21,
   "id": "ceb73ff1",
   "metadata": {},
   "outputs": [
    {
     "data": {
      "text/html": [
       "<style>#sk-container-id-1 {color: black;}#sk-container-id-1 pre{padding: 0;}#sk-container-id-1 div.sk-toggleable {background-color: white;}#sk-container-id-1 label.sk-toggleable__label {cursor: pointer;display: block;width: 100%;margin-bottom: 0;padding: 0.3em;box-sizing: border-box;text-align: center;}#sk-container-id-1 label.sk-toggleable__label-arrow:before {content: \"▸\";float: left;margin-right: 0.25em;color: #696969;}#sk-container-id-1 label.sk-toggleable__label-arrow:hover:before {color: black;}#sk-container-id-1 div.sk-estimator:hover label.sk-toggleable__label-arrow:before {color: black;}#sk-container-id-1 div.sk-toggleable__content {max-height: 0;max-width: 0;overflow: hidden;text-align: left;background-color: #f0f8ff;}#sk-container-id-1 div.sk-toggleable__content pre {margin: 0.2em;color: black;border-radius: 0.25em;background-color: #f0f8ff;}#sk-container-id-1 input.sk-toggleable__control:checked~div.sk-toggleable__content {max-height: 200px;max-width: 100%;overflow: auto;}#sk-container-id-1 input.sk-toggleable__control:checked~label.sk-toggleable__label-arrow:before {content: \"▾\";}#sk-container-id-1 div.sk-estimator input.sk-toggleable__control:checked~label.sk-toggleable__label {background-color: #d4ebff;}#sk-container-id-1 div.sk-label input.sk-toggleable__control:checked~label.sk-toggleable__label {background-color: #d4ebff;}#sk-container-id-1 input.sk-hidden--visually {border: 0;clip: rect(1px 1px 1px 1px);clip: rect(1px, 1px, 1px, 1px);height: 1px;margin: -1px;overflow: hidden;padding: 0;position: absolute;width: 1px;}#sk-container-id-1 div.sk-estimator {font-family: monospace;background-color: #f0f8ff;border: 1px dotted black;border-radius: 0.25em;box-sizing: border-box;margin-bottom: 0.5em;}#sk-container-id-1 div.sk-estimator:hover {background-color: #d4ebff;}#sk-container-id-1 div.sk-parallel-item::after {content: \"\";width: 100%;border-bottom: 1px solid gray;flex-grow: 1;}#sk-container-id-1 div.sk-label:hover label.sk-toggleable__label {background-color: #d4ebff;}#sk-container-id-1 div.sk-serial::before {content: \"\";position: absolute;border-left: 1px solid gray;box-sizing: border-box;top: 0;bottom: 0;left: 50%;z-index: 0;}#sk-container-id-1 div.sk-serial {display: flex;flex-direction: column;align-items: center;background-color: white;padding-right: 0.2em;padding-left: 0.2em;position: relative;}#sk-container-id-1 div.sk-item {position: relative;z-index: 1;}#sk-container-id-1 div.sk-parallel {display: flex;align-items: stretch;justify-content: center;background-color: white;position: relative;}#sk-container-id-1 div.sk-item::before, #sk-container-id-1 div.sk-parallel-item::before {content: \"\";position: absolute;border-left: 1px solid gray;box-sizing: border-box;top: 0;bottom: 0;left: 50%;z-index: -1;}#sk-container-id-1 div.sk-parallel-item {display: flex;flex-direction: column;z-index: 1;position: relative;background-color: white;}#sk-container-id-1 div.sk-parallel-item:first-child::after {align-self: flex-end;width: 50%;}#sk-container-id-1 div.sk-parallel-item:last-child::after {align-self: flex-start;width: 50%;}#sk-container-id-1 div.sk-parallel-item:only-child::after {width: 0;}#sk-container-id-1 div.sk-dashed-wrapped {border: 1px dashed gray;margin: 0 0.4em 0.5em 0.4em;box-sizing: border-box;padding-bottom: 0.4em;background-color: white;}#sk-container-id-1 div.sk-label label {font-family: monospace;font-weight: bold;display: inline-block;line-height: 1.2em;}#sk-container-id-1 div.sk-label-container {text-align: center;}#sk-container-id-1 div.sk-container {/* jupyter's `normalize.less` sets `[hidden] { display: none; }` but bootstrap.min.css set `[hidden] { display: none !important; }` so we also need the `!important` here to be able to override the default hidden behavior on the sphinx rendered scikit-learn.org. See: https://github.com/scikit-learn/scikit-learn/issues/21755 */display: inline-block !important;position: relative;}#sk-container-id-1 div.sk-text-repr-fallback {display: none;}</style><div id=\"sk-container-id-1\" class=\"sk-top-container\"><div class=\"sk-text-repr-fallback\"><pre>DecisionTreeClassifier(max_depth=11, max_features=&#x27;sqrt&#x27;, random_state=42)</pre><b>In a Jupyter environment, please rerun this cell to show the HTML representation or trust the notebook. <br />On GitHub, the HTML representation is unable to render, please try loading this page with nbviewer.org.</b></div><div class=\"sk-container\" hidden><div class=\"sk-item\"><div class=\"sk-estimator sk-toggleable\"><input class=\"sk-toggleable__control sk-hidden--visually\" id=\"sk-estimator-id-1\" type=\"checkbox\" checked><label for=\"sk-estimator-id-1\" class=\"sk-toggleable__label sk-toggleable__label-arrow\">DecisionTreeClassifier</label><div class=\"sk-toggleable__content\"><pre>DecisionTreeClassifier(max_depth=11, max_features=&#x27;sqrt&#x27;, random_state=42)</pre></div></div></div></div></div>"
      ],
      "text/plain": [
       "DecisionTreeClassifier(max_depth=11, max_features='sqrt', random_state=42)"
      ]
     },
     "execution_count": 21,
     "metadata": {},
     "output_type": "execute_result"
    }
   ],
   "source": [
    "Decision_tree_model = DecisionTreeClassifier(random_state=42,max_features=\"sqrt\",max_depth=11,criterion=\"gini\")\n",
    "\n",
    "Decision_tree_model.fit(X_train,y_train)"
   ]
  },
  {
   "cell_type": "markdown",
   "id": "a0da21ab",
   "metadata": {},
   "source": [
    "* evaluating the performance of the model on the trainig data"
   ]
  },
  {
   "cell_type": "code",
   "execution_count": 22,
   "id": "60f2b6db",
   "metadata": {},
   "outputs": [
    {
     "name": "stdout",
     "output_type": "stream",
     "text": [
      "              precision    recall  f1-score   support\n",
      "\n",
      "           0       0.86      0.85      0.85       241\n",
      "           1       0.93      0.94      0.94       559\n",
      "\n",
      "    accuracy                           0.91       800\n",
      "   macro avg       0.90      0.89      0.89       800\n",
      "weighted avg       0.91      0.91      0.91       800\n",
      "\n"
     ]
    }
   ],
   "source": [
    "y_train_pred = Decision_tree_model.predict(X_train)\n",
    "\n",
    "print(classification_report(y_train,y_train_pred))"
   ]
  },
  {
   "cell_type": "code",
   "execution_count": 23,
   "id": "a0e32ac6",
   "metadata": {},
   "outputs": [
    {
     "data": {
      "image/png": "[encoded data removed]",
      "text/plain": [
       "<Figure size 1000x700 with 2 Axes>"
      ]
     },
     "metadata": {},
     "output_type": "display_data"
    }
   ],
   "source": [
    "fig, ax = plt.subplots(figsize=(10,7))\n",
    "\n",
    "sns.heatmap(confusion_matrix(y_train,y_train_pred),annot=True)\n",
    "\n",
    "plt.xlabel(\"Actual values (y_train)\")\n",
    "\n",
    "plt.ylabel(\"Predicted values (y_train_pred)\")\n",
    "\n",
    "plt.title(\"A Decision tree confusion matrix for y_train and its predicted values\");"
   ]
  },
  {
   "cell_type": "code",
   "execution_count": 24,
   "id": "47b67b48",
   "metadata": {},
   "outputs": [
    {
     "data": {
      "text/html": [
       "<div>\n",
       "<style scoped>\n",
       "    .dataframe tbody tr th:only-of-type {\n",
       "        vertical-align: middle;\n",
       "    }\n",
       "\n",
       "    .dataframe tbody tr th {\n",
       "        vertical-align: top;\n",
       "    }\n",
       "\n",
       "    .dataframe thead th {\n",
       "        text-align: right;\n",
       "    }\n",
       "</style>\n",
       "<table border=\"1\" class=\"dataframe\">\n",
       "  <thead>\n",
       "    <tr style=\"text-align: right;\">\n",
       "      <th></th>\n",
       "      <th>featues</th>\n",
       "      <th>importances</th>\n",
       "    </tr>\n",
       "  </thead>\n",
       "  <tbody>\n",
       "    <tr>\n",
       "      <th>0</th>\n",
       "      <td>CHK_ACCT</td>\n",
       "      <td>0.139348</td>\n",
       "    </tr>\n",
       "    <tr>\n",
       "      <th>1</th>\n",
       "      <td>DURATION</td>\n",
       "      <td>0.137453</td>\n",
       "    </tr>\n",
       "    <tr>\n",
       "      <th>21</th>\n",
       "      <td>AGE</td>\n",
       "      <td>0.098068</td>\n",
       "    </tr>\n",
       "    <tr>\n",
       "      <th>11</th>\n",
       "      <td>EMPLOYMENT</td>\n",
       "      <td>0.090418</td>\n",
       "    </tr>\n",
       "    <tr>\n",
       "      <th>9</th>\n",
       "      <td>AMOUNT</td>\n",
       "      <td>0.064475</td>\n",
       "    </tr>\n",
       "    <tr>\n",
       "      <th>10</th>\n",
       "      <td>SAV_ACCT</td>\n",
       "      <td>0.047868</td>\n",
       "    </tr>\n",
       "    <tr>\n",
       "      <th>12</th>\n",
       "      <td>INSTALL_RATE</td>\n",
       "      <td>0.046023</td>\n",
       "    </tr>\n",
       "    <tr>\n",
       "      <th>26</th>\n",
       "      <td>JOB</td>\n",
       "      <td>0.045425</td>\n",
       "    </tr>\n",
       "    <tr>\n",
       "      <th>18</th>\n",
       "      <td>PRESENT_RESIDENT</td>\n",
       "      <td>0.041522</td>\n",
       "    </tr>\n",
       "    <tr>\n",
       "      <th>22</th>\n",
       "      <td>OTHER_INSTALL</td>\n",
       "      <td>0.031652</td>\n",
       "    </tr>\n",
       "  </tbody>\n",
       "</table>\n",
       "</div>"
      ],
      "text/plain": [
       "             featues  importances\n",
       "0           CHK_ACCT     0.139348\n",
       "1           DURATION     0.137453\n",
       "21               AGE     0.098068\n",
       "11        EMPLOYMENT     0.090418\n",
       "9             AMOUNT     0.064475\n",
       "10          SAV_ACCT     0.047868\n",
       "12      INSTALL_RATE     0.046023\n",
       "26               JOB     0.045425\n",
       "18  PRESENT_RESIDENT     0.041522\n",
       "22     OTHER_INSTALL     0.031652"
      ]
     },
     "execution_count": 24,
     "metadata": {},
     "output_type": "execute_result"
    }
   ],
   "source": [
    "feat_imp = pd.DataFrame({\"featues\" : X_train.columns,\"importances\" : Decision_tree_model.feature_importances_}).sort_values(\"importances\",ascending=False).head(10)\n",
    "\n",
    "feat_imp"
   ]
  },
  {
   "cell_type": "code",
   "execution_count": 25,
   "id": "15f59a2a",
   "metadata": {},
   "outputs": [
    {
     "data": {
      "image/png": "[encoded data removed]",
      "text/plain": [
       "<Figure size 1000x600 with 1 Axes>"
      ]
     },
     "metadata": {},
     "output_type": "display_data"
    }
   ],
   "source": [
    "fig, ax = plt.subplots(figsize=(10,6))\n",
    "\n",
    "plt.barh(feat_imp.iloc[:,0],feat_imp.iloc[:,1])\n",
    "\n",
    "plt.xlabel(\"Importances\")\n",
    "\n",
    "plt.ylabel(\"Featues\")\n",
    "\n",
    "plt.title(\"Representation of the features with thier importances\");"
   ]
  },
  {
   "cell_type": "markdown",
   "id": "c0b74565",
   "metadata": {},
   "source": [
    "## Saving the model\n",
    "\n",
    "* model to be saved as \"Application scorecard\""
   ]
  },
  {
   "cell_type": "code",
   "execution_count": 26,
   "id": "a67b7379",
   "metadata": {},
   "outputs": [],
   "source": [
    "with open (\"Application_scorecard_1\",\"wb\") as f:\n",
    "    \n",
    "    pickle.dump (Decision_tree_model,f)"
   ]
  },
  {
   "cell_type": "markdown",
   "id": "7943f984",
   "metadata": {},
   "source": [
    "####    "
   ]
  },
  {
   "cell_type": "markdown",
   "id": "d583433e-a81d-429e-9f29-916a11d07cd0",
   "metadata": {},
   "source": [
    "### The final model to used for the solving the classification is a Random forest.\n",
    "\n",
    "* the hyperparameters to used are list above.\n",
    "\n",
    "* at the time of runing this code the parameters were n_estimators=150,max_features=\"log2\",max_depth=18,criterion=\"gini\" 'criterion': 'gini"
   ]
  },
  {
   "cell_type": "code",
   "execution_count": 27,
   "id": "bcadec6c-b80f-48ca-bece-3f4d67064529",
   "metadata": {},
   "outputs": [
    {
     "data": {
      "text/html": [
       "<style>#sk-container-id-2 {color: black;}#sk-container-id-2 pre{padding: 0;}#sk-container-id-2 div.sk-toggleable {background-color: white;}#sk-container-id-2 label.sk-toggleable__label {cursor: pointer;display: block;width: 100%;margin-bottom: 0;padding: 0.3em;box-sizing: border-box;text-align: center;}#sk-container-id-2 label.sk-toggleable__label-arrow:before {content: \"▸\";float: left;margin-right: 0.25em;color: #696969;}#sk-container-id-2 label.sk-toggleable__label-arrow:hover:before {color: black;}#sk-container-id-2 div.sk-estimator:hover label.sk-toggleable__label-arrow:before {color: black;}#sk-container-id-2 div.sk-toggleable__content {max-height: 0;max-width: 0;overflow: hidden;text-align: left;background-color: #f0f8ff;}#sk-container-id-2 div.sk-toggleable__content pre {margin: 0.2em;color: black;border-radius: 0.25em;background-color: #f0f8ff;}#sk-container-id-2 input.sk-toggleable__control:checked~div.sk-toggleable__content {max-height: 200px;max-width: 100%;overflow: auto;}#sk-container-id-2 input.sk-toggleable__control:checked~label.sk-toggleable__label-arrow:before {content: \"▾\";}#sk-container-id-2 div.sk-estimator input.sk-toggleable__control:checked~label.sk-toggleable__label {background-color: #d4ebff;}#sk-container-id-2 div.sk-label input.sk-toggleable__control:checked~label.sk-toggleable__label {background-color: #d4ebff;}#sk-container-id-2 input.sk-hidden--visually {border: 0;clip: rect(1px 1px 1px 1px);clip: rect(1px, 1px, 1px, 1px);height: 1px;margin: -1px;overflow: hidden;padding: 0;position: absolute;width: 1px;}#sk-container-id-2 div.sk-estimator {font-family: monospace;background-color: #f0f8ff;border: 1px dotted black;border-radius: 0.25em;box-sizing: border-box;margin-bottom: 0.5em;}#sk-container-id-2 div.sk-estimator:hover {background-color: #d4ebff;}#sk-container-id-2 div.sk-parallel-item::after {content: \"\";width: 100%;border-bottom: 1px solid gray;flex-grow: 1;}#sk-container-id-2 div.sk-label:hover label.sk-toggleable__label {background-color: #d4ebff;}#sk-container-id-2 div.sk-serial::before {content: \"\";position: absolute;border-left: 1px solid gray;box-sizing: border-box;top: 0;bottom: 0;left: 50%;z-index: 0;}#sk-container-id-2 div.sk-serial {display: flex;flex-direction: column;align-items: center;background-color: white;padding-right: 0.2em;padding-left: 0.2em;position: relative;}#sk-container-id-2 div.sk-item {position: relative;z-index: 1;}#sk-container-id-2 div.sk-parallel {display: flex;align-items: stretch;justify-content: center;background-color: white;position: relative;}#sk-container-id-2 div.sk-item::before, #sk-container-id-2 div.sk-parallel-item::before {content: \"\";position: absolute;border-left: 1px solid gray;box-sizing: border-box;top: 0;bottom: 0;left: 50%;z-index: -1;}#sk-container-id-2 div.sk-parallel-item {display: flex;flex-direction: column;z-index: 1;position: relative;background-color: white;}#sk-container-id-2 div.sk-parallel-item:first-child::after {align-self: flex-end;width: 50%;}#sk-container-id-2 div.sk-parallel-item:last-child::after {align-self: flex-start;width: 50%;}#sk-container-id-2 div.sk-parallel-item:only-child::after {width: 0;}#sk-container-id-2 div.sk-dashed-wrapped {border: 1px dashed gray;margin: 0 0.4em 0.5em 0.4em;box-sizing: border-box;padding-bottom: 0.4em;background-color: white;}#sk-container-id-2 div.sk-label label {font-family: monospace;font-weight: bold;display: inline-block;line-height: 1.2em;}#sk-container-id-2 div.sk-label-container {text-align: center;}#sk-container-id-2 div.sk-container {/* jupyter's `normalize.less` sets `[hidden] { display: none; }` but bootstrap.min.css set `[hidden] { display: none !important; }` so we also need the `!important` here to be able to override the default hidden behavior on the sphinx rendered scikit-learn.org. See: https://github.com/scikit-learn/scikit-learn/issues/21755 */display: inline-block !important;position: relative;}#sk-container-id-2 div.sk-text-repr-fallback {display: none;}</style><div id=\"sk-container-id-2\" class=\"sk-top-container\"><div class=\"sk-text-repr-fallback\"><pre>RandomForestClassifier(max_depth=18, max_features=&#x27;log2&#x27;, n_estimators=150,\n",
       "                       random_state=42)</pre><b>In a Jupyter environment, please rerun this cell to show the HTML representation or trust the notebook. <br />On GitHub, the HTML representation is unable to render, please try loading this page with nbviewer.org.</b></div><div class=\"sk-container\" hidden><div class=\"sk-item\"><div class=\"sk-estimator sk-toggleable\"><input class=\"sk-toggleable__control sk-hidden--visually\" id=\"sk-estimator-id-2\" type=\"checkbox\" checked><label for=\"sk-estimator-id-2\" class=\"sk-toggleable__label sk-toggleable__label-arrow\">RandomForestClassifier</label><div class=\"sk-toggleable__content\"><pre>RandomForestClassifier(max_depth=18, max_features=&#x27;log2&#x27;, n_estimators=150,\n",
       "                       random_state=42)</pre></div></div></div></div></div>"
      ],
      "text/plain": [
       "RandomForestClassifier(max_depth=18, max_features='log2', n_estimators=150,\n",
       "                       random_state=42)"
      ]
     },
     "execution_count": 27,
     "metadata": {},
     "output_type": "execute_result"
    }
   ],
   "source": [
    "Random_forest_model = RandomForestClassifier(random_state=42,n_estimators=150,max_features=\"log2\",max_depth=18,criterion=\"gini\")\n",
    "\n",
    "Random_forest_model.fit(X_train,y_train)"
   ]
  },
  {
   "cell_type": "markdown",
   "id": "d32b6c74-c6f5-48e0-b01e-9261c66570df",
   "metadata": {},
   "source": [
    "* evaluating the performance of the model on the trainig data "
   ]
  },
  {
   "cell_type": "code",
   "execution_count": 28,
   "id": "77056f86-0a71-4332-97ad-1f84f6486aa9",
   "metadata": {},
   "outputs": [
    {
     "name": "stdout",
     "output_type": "stream",
     "text": [
      "              precision    recall  f1-score   support\n",
      "\n",
      "           0       1.00      1.00      1.00       241\n",
      "           1       1.00      1.00      1.00       559\n",
      "\n",
      "    accuracy                           1.00       800\n",
      "   macro avg       1.00      1.00      1.00       800\n",
      "weighted avg       1.00      1.00      1.00       800\n",
      "\n"
     ]
    }
   ],
   "source": [
    "y_train_pred = Random_forest_model.predict(X_train)\n",
    "\n",
    "print(classification_report(y_train,y_train_pred))"
   ]
  },
  {
   "cell_type": "code",
   "execution_count": 29,
   "id": "dcaf2879-faef-4f79-915e-fd62cdc09523",
   "metadata": {},
   "outputs": [
    {
     "data": {
      "image/png": "[encoded data removed]",
      "text/plain": [
       "<Figure size 1000x700 with 2 Axes>"
      ]
     },
     "metadata": {},
     "output_type": "display_data"
    }
   ],
   "source": [
    "fig, ax = plt.subplots(figsize=(10,7))\n",
    "\n",
    "sns.heatmap(confusion_matrix(y_train,y_train_pred),annot=True)\n",
    "\n",
    "plt.xlabel(\"Actual values (y_train)\")\n",
    "\n",
    "plt.ylabel(\"Predicted values (y_train_pred)\")\n",
    "\n",
    "plt.title(\"A confusion matrix for y_train and its predicted values\");"
   ]
  },
  {
   "cell_type": "markdown",
   "id": "4b176e1a-9b18-4e17-ab3d-5f464d155261",
   "metadata": {},
   "source": [
    "### "
   ]
  },
  {
   "cell_type": "markdown",
   "id": "ae0a6729-5cdb-4bf3-acdd-e34f7bba2f8a",
   "metadata": {},
   "source": [
    "* evaluating the performance of finam model on the unseen test data"
   ]
  },
  {
   "cell_type": "code",
   "execution_count": 30,
   "id": "ca73db4d-a89a-4aa4-a1a6-005fc1c9090a",
   "metadata": {},
   "outputs": [
    {
     "name": "stdout",
     "output_type": "stream",
     "text": [
      "              precision    recall  f1-score   support\n",
      "\n",
      "           0       0.69      0.46      0.55        59\n",
      "           1       0.80      0.91      0.85       141\n",
      "\n",
      "    accuracy                           0.78       200\n",
      "   macro avg       0.75      0.69      0.70       200\n",
      "weighted avg       0.77      0.78      0.76       200\n",
      "\n"
     ]
    }
   ],
   "source": [
    "y_test_pred = Random_forest_model.predict(X_test)\n",
    "\n",
    "print(classification_report(y_test,y_test_pred))"
   ]
  },
  {
   "cell_type": "code",
   "execution_count": 31,
   "id": "937ba0bb-76a8-42cc-8612-400d0ef043d5",
   "metadata": {},
   "outputs": [
    {
     "data": {
      "image/png": "[encoded data removed]",
      "text/plain": [
       "<Figure size 1000x700 with 2 Axes>"
      ]
     },
     "metadata": {},
     "output_type": "display_data"
    }
   ],
   "source": [
    "fig, ax = plt.subplots(figsize=(10,7))\n",
    "\n",
    "sns.heatmap(confusion_matrix(y_test,y_test_pred),annot=True)\n",
    "\n",
    "plt.xlabel(\"Actual values (y_test)\")\n",
    "\n",
    "plt.ylabel(\"Predicted values (y_test_pred)\")\n",
    "\n",
    "plt.title(\"A confusion matrix for y_test and its predicted values\");"
   ]
  },
  {
   "cell_type": "markdown",
   "id": "0f0718fb-e877-4dd3-839a-79142c6e699c",
   "metadata": {},
   "source": [
    "###  "
   ]
  },
  {
   "cell_type": "code",
   "execution_count": 32,
   "id": "334ef119-3e8f-43de-95e3-7b9c01eceed3",
   "metadata": {},
   "outputs": [
    {
     "data": {
      "text/html": [
       "<div>\n",
       "<style scoped>\n",
       "    .dataframe tbody tr th:only-of-type {\n",
       "        vertical-align: middle;\n",
       "    }\n",
       "\n",
       "    .dataframe tbody tr th {\n",
       "        vertical-align: top;\n",
       "    }\n",
       "\n",
       "    .dataframe thead th {\n",
       "        text-align: right;\n",
       "    }\n",
       "</style>\n",
       "<table border=\"1\" class=\"dataframe\">\n",
       "  <thead>\n",
       "    <tr style=\"text-align: right;\">\n",
       "      <th></th>\n",
       "      <th>featues</th>\n",
       "      <th>importances</th>\n",
       "    </tr>\n",
       "  </thead>\n",
       "  <tbody>\n",
       "    <tr>\n",
       "      <th>9</th>\n",
       "      <td>AMOUNT</td>\n",
       "      <td>0.125245</td>\n",
       "    </tr>\n",
       "    <tr>\n",
       "      <th>21</th>\n",
       "      <td>AGE</td>\n",
       "      <td>0.103414</td>\n",
       "    </tr>\n",
       "    <tr>\n",
       "      <th>0</th>\n",
       "      <td>CHK_ACCT</td>\n",
       "      <td>0.098104</td>\n",
       "    </tr>\n",
       "    <tr>\n",
       "      <th>1</th>\n",
       "      <td>DURATION</td>\n",
       "      <td>0.089588</td>\n",
       "    </tr>\n",
       "    <tr>\n",
       "      <th>2</th>\n",
       "      <td>HISTORY</td>\n",
       "      <td>0.062917</td>\n",
       "    </tr>\n",
       "    <tr>\n",
       "      <th>11</th>\n",
       "      <td>EMPLOYMENT</td>\n",
       "      <td>0.056755</td>\n",
       "    </tr>\n",
       "    <tr>\n",
       "      <th>10</th>\n",
       "      <td>SAV_ACCT</td>\n",
       "      <td>0.044006</td>\n",
       "    </tr>\n",
       "    <tr>\n",
       "      <th>12</th>\n",
       "      <td>INSTALL_RATE</td>\n",
       "      <td>0.042552</td>\n",
       "    </tr>\n",
       "    <tr>\n",
       "      <th>18</th>\n",
       "      <td>PRESENT_RESIDENT</td>\n",
       "      <td>0.042205</td>\n",
       "    </tr>\n",
       "    <tr>\n",
       "      <th>26</th>\n",
       "      <td>JOB</td>\n",
       "      <td>0.031204</td>\n",
       "    </tr>\n",
       "  </tbody>\n",
       "</table>\n",
       "</div>"
      ],
      "text/plain": [
       "             featues  importances\n",
       "9             AMOUNT     0.125245\n",
       "21               AGE     0.103414\n",
       "0           CHK_ACCT     0.098104\n",
       "1           DURATION     0.089588\n",
       "2            HISTORY     0.062917\n",
       "11        EMPLOYMENT     0.056755\n",
       "10          SAV_ACCT     0.044006\n",
       "12      INSTALL_RATE     0.042552\n",
       "18  PRESENT_RESIDENT     0.042205\n",
       "26               JOB     0.031204"
      ]
     },
     "execution_count": 32,
     "metadata": {},
     "output_type": "execute_result"
    }
   ],
   "source": [
    "feat_imp = pd.DataFrame({\"featues\" : X_train.columns,\"importances\" : Random_forest_model.feature_importances_}).sort_values(\"importances\",ascending=False).head(10)\n",
    "\n",
    "feat_imp"
   ]
  },
  {
   "cell_type": "code",
   "execution_count": 33,
   "id": "5357d038-6710-49e5-83f5-ff4771b4723a",
   "metadata": {},
   "outputs": [
    {
     "data": {
      "image/png": "[encoded data removed]",
      "text/plain": [
       "<Figure size 1000x600 with 1 Axes>"
      ]
     },
     "metadata": {},
     "output_type": "display_data"
    }
   ],
   "source": [
    "fig, ax = plt.subplots(figsize=(10,6))\n",
    "\n",
    "plt.barh(feat_imp.iloc[:,0],feat_imp.iloc[:,1])\n",
    "\n",
    "plt.xlabel(\"Importances\")\n",
    "\n",
    "plt.ylabel(\"Featues\")\n",
    "\n",
    "plt.title(\"Representation of the features with thier importances\");"
   ]
  },
  {
   "cell_type": "markdown",
   "id": "01fb7e6a-d83b-40aa-ba4d-165966bc2a94",
   "metadata": {},
   "source": [
    "# "
   ]
  },
  {
   "cell_type": "markdown",
   "id": "09652157-1ffd-48eb-bf42-53320ea42a9d",
   "metadata": {},
   "source": [
    "## Saving the model 2\n",
    "\n",
    "* model to be saved as \"Application scorecard_2\""
   ]
  },
  {
   "cell_type": "code",
   "execution_count": 34,
   "id": "700cce8d-a44c-4a4e-a10b-70aa7af9df7f",
   "metadata": {},
   "outputs": [],
   "source": [
    "with open (\"Application_scorecard_2\",\"wb\") as f:\n",
    "    \n",
    "    pickle.dump (Random_forest_model,f)"
   ]
  },
  {
   "cell_type": "markdown",
   "id": "fa926712-948a-4aae-bc95-d45624248b2b",
   "metadata": {},
   "source": [
    "#### Report prepared by Kasozi Abudusalaamu"
   ]
  },
  {
   "cell_type": "code",
   "execution_count": null,
   "id": "d520f983-10eb-4e5e-91c4-f34047dfcb79",
   "metadata": {},
   "outputs": [],
   "source": []
  }
 ],
 "metadata": {
  "kernelspec": {
   "display_name": "Python 3 (ipykernel)",
   "language": "python",
   "name": "python3"
  },
  "language_info": {
   "codemirror_mode": {
    "name": "ipython",
    "version": 3
   },
   "file_extension": ".py",
   "mimetype": "text/x-python",
   "name": "python",
   "nbconvert_exporter": "python",
   "pygments_lexer": "ipython3",
   "version": "3.11.4"
  }
 },
 "nbformat": 4,
 "nbformat_minor": 5
}
